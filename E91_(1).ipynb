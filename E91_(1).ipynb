{
  "cells": [
    {
      "cell_type": "markdown",
      "metadata": {
        "id": "view-in-github",
        "colab_type": "text"
      },
      "source": [
        "<a href=\"https://colab.research.google.com/github/Hasib1938/Hasib1938/blob/main/E91_(1).ipynb\" target=\"_parent\"><img src=\"https://colab.research.google.com/assets/colab-badge.svg\" alt=\"Open In Colab\"/></a>"
      ]
    },
    {
      "cell_type": "code",
      "source": [
        "!pip install qiskit\n",
        "!pip install pylatexenc\n",
        "!pip install qiskit-aer"
      ],
      "metadata": {
        "id": "C_bipaU-ccwl",
        "colab": {
          "base_uri": "https://localhost:8080/"
        },
        "outputId": "c4a94d9f-329d-4d89-970a-930fe6aa8b8c"
      },
      "id": "C_bipaU-ccwl",
      "execution_count": null,
      "outputs": [
        {
          "output_type": "stream",
          "name": "stdout",
          "text": [
            "Collecting qiskit\n",
            "  Downloading qiskit-1.0.2-cp38-abi3-manylinux_2_17_x86_64.manylinux2014_x86_64.whl (5.6 MB)\n",
            "\u001b[2K     \u001b[90m━━━━━━━━━━━━━━━━━━━━━━━━━━━━━━━━━━━━━━━━\u001b[0m \u001b[32m5.6/5.6 MB\u001b[0m \u001b[31m14.5 MB/s\u001b[0m eta \u001b[36m0:00:00\u001b[0m\n",
            "\u001b[?25hCollecting rustworkx>=0.14.0 (from qiskit)\n",
            "  Downloading rustworkx-0.14.2-cp310-cp310-manylinux_2_17_x86_64.manylinux2014_x86_64.whl (2.1 MB)\n",
            "\u001b[2K     \u001b[90m━━━━━━━━━━━━━━━━━━━━━━━━━━━━━━━━━━━━━━━━\u001b[0m \u001b[32m2.1/2.1 MB\u001b[0m \u001b[31m27.0 MB/s\u001b[0m eta \u001b[36m0:00:00\u001b[0m\n",
            "\u001b[?25hRequirement already satisfied: numpy<2,>=1.17 in /usr/local/lib/python3.10/dist-packages (from qiskit) (1.25.2)\n",
            "Requirement already satisfied: scipy>=1.5 in /usr/local/lib/python3.10/dist-packages (from qiskit) (1.11.4)\n",
            "Requirement already satisfied: sympy>=1.3 in /usr/local/lib/python3.10/dist-packages (from qiskit) (1.12)\n",
            "Collecting dill>=0.3 (from qiskit)\n",
            "  Downloading dill-0.3.8-py3-none-any.whl (116 kB)\n",
            "\u001b[2K     \u001b[90m━━━━━━━━━━━━━━━━━━━━━━━━━━━━━━━━━━━━━━━━\u001b[0m \u001b[32m116.3/116.3 kB\u001b[0m \u001b[31m11.1 MB/s\u001b[0m eta \u001b[36m0:00:00\u001b[0m\n",
            "\u001b[?25hRequirement already satisfied: python-dateutil>=2.8.0 in /usr/local/lib/python3.10/dist-packages (from qiskit) (2.8.2)\n",
            "Collecting stevedore>=3.0.0 (from qiskit)\n",
            "  Downloading stevedore-5.2.0-py3-none-any.whl (49 kB)\n",
            "\u001b[2K     \u001b[90m━━━━━━━━━━━━━━━━━━━━━━━━━━━━━━━━━━━━━━━━\u001b[0m \u001b[32m49.7/49.7 kB\u001b[0m \u001b[31m5.2 MB/s\u001b[0m eta \u001b[36m0:00:00\u001b[0m\n",
            "\u001b[?25hRequirement already satisfied: typing-extensions in /usr/local/lib/python3.10/dist-packages (from qiskit) (4.10.0)\n",
            "Collecting symengine>=0.11 (from qiskit)\n",
            "  Downloading symengine-0.11.0-cp310-cp310-manylinux_2_12_x86_64.manylinux2010_x86_64.whl (39.4 MB)\n",
            "\u001b[2K     \u001b[90m━━━━━━━━━━━━━━━━━━━━━━━━━━━━━━━━━━━━━━━━\u001b[0m \u001b[32m39.4/39.4 MB\u001b[0m \u001b[31m16.5 MB/s\u001b[0m eta \u001b[36m0:00:00\u001b[0m\n",
            "\u001b[?25hRequirement already satisfied: six>=1.5 in /usr/local/lib/python3.10/dist-packages (from python-dateutil>=2.8.0->qiskit) (1.16.0)\n",
            "Collecting pbr!=2.1.0,>=2.0.0 (from stevedore>=3.0.0->qiskit)\n",
            "  Downloading pbr-6.0.0-py2.py3-none-any.whl (107 kB)\n",
            "\u001b[2K     \u001b[90m━━━━━━━━━━━━━━━━━━━━━━━━━━━━━━━━━━━━━━━━\u001b[0m \u001b[32m107.5/107.5 kB\u001b[0m \u001b[31m7.1 MB/s\u001b[0m eta \u001b[36m0:00:00\u001b[0m\n",
            "\u001b[?25hRequirement already satisfied: mpmath>=0.19 in /usr/local/lib/python3.10/dist-packages (from sympy>=1.3->qiskit) (1.3.0)\n",
            "Installing collected packages: symengine, rustworkx, pbr, dill, stevedore, qiskit\n",
            "Successfully installed dill-0.3.8 pbr-6.0.0 qiskit-1.0.2 rustworkx-0.14.2 stevedore-5.2.0 symengine-0.11.0\n",
            "Collecting pylatexenc\n",
            "  Downloading pylatexenc-2.10.tar.gz (162 kB)\n",
            "\u001b[2K     \u001b[90m━━━━━━━━━━━━━━━━━━━━━━━━━━━━━━━━━━━━━━━━\u001b[0m \u001b[32m162.6/162.6 kB\u001b[0m \u001b[31m3.9 MB/s\u001b[0m eta \u001b[36m0:00:00\u001b[0m\n",
            "\u001b[?25h  Preparing metadata (setup.py) ... \u001b[?25l\u001b[?25hdone\n",
            "Building wheels for collected packages: pylatexenc\n",
            "  Building wheel for pylatexenc (setup.py) ... \u001b[?25l\u001b[?25hdone\n",
            "  Created wheel for pylatexenc: filename=pylatexenc-2.10-py3-none-any.whl size=136816 sha256=717294aa014f345e0e54a6b5c04bf529bd9b78077c6ed4e16133136867b0d910\n",
            "  Stored in directory: /root/.cache/pip/wheels/d3/31/8b/e09b0386afd80cfc556c00408c9aeea5c35c4d484a9c762fd5\n",
            "Successfully built pylatexenc\n",
            "Installing collected packages: pylatexenc\n",
            "Successfully installed pylatexenc-2.10\n",
            "Collecting qiskit-aer\n",
            "  Downloading qiskit_aer-0.13.3-cp310-cp310-manylinux_2_17_x86_64.manylinux2014_x86_64.whl (12.3 MB)\n",
            "\u001b[2K     \u001b[90m━━━━━━━━━━━━━━━━━━━━━━━━━━━━━━━━━━━━━━━━\u001b[0m \u001b[32m12.3/12.3 MB\u001b[0m \u001b[31m72.4 MB/s\u001b[0m eta \u001b[36m0:00:00\u001b[0m\n",
            "\u001b[?25hRequirement already satisfied: qiskit>=0.45.0 in /usr/local/lib/python3.10/dist-packages (from qiskit-aer) (1.0.2)\n",
            "Requirement already satisfied: numpy>=1.16.3 in /usr/local/lib/python3.10/dist-packages (from qiskit-aer) (1.25.2)\n",
            "Requirement already satisfied: scipy>=1.0 in /usr/local/lib/python3.10/dist-packages (from qiskit-aer) (1.11.4)\n",
            "Requirement already satisfied: psutil>=5 in /usr/local/lib/python3.10/dist-packages (from qiskit-aer) (5.9.5)\n",
            "Requirement already satisfied: rustworkx>=0.14.0 in /usr/local/lib/python3.10/dist-packages (from qiskit>=0.45.0->qiskit-aer) (0.14.2)\n",
            "Requirement already satisfied: sympy>=1.3 in /usr/local/lib/python3.10/dist-packages (from qiskit>=0.45.0->qiskit-aer) (1.12)\n",
            "Requirement already satisfied: dill>=0.3 in /usr/local/lib/python3.10/dist-packages (from qiskit>=0.45.0->qiskit-aer) (0.3.8)\n",
            "Requirement already satisfied: python-dateutil>=2.8.0 in /usr/local/lib/python3.10/dist-packages (from qiskit>=0.45.0->qiskit-aer) (2.8.2)\n",
            "Requirement already satisfied: stevedore>=3.0.0 in /usr/local/lib/python3.10/dist-packages (from qiskit>=0.45.0->qiskit-aer) (5.2.0)\n",
            "Requirement already satisfied: typing-extensions in /usr/local/lib/python3.10/dist-packages (from qiskit>=0.45.0->qiskit-aer) (4.10.0)\n",
            "Requirement already satisfied: symengine>=0.11 in /usr/local/lib/python3.10/dist-packages (from qiskit>=0.45.0->qiskit-aer) (0.11.0)\n",
            "Requirement already satisfied: six>=1.5 in /usr/local/lib/python3.10/dist-packages (from python-dateutil>=2.8.0->qiskit>=0.45.0->qiskit-aer) (1.16.0)\n",
            "Requirement already satisfied: pbr!=2.1.0,>=2.0.0 in /usr/local/lib/python3.10/dist-packages (from stevedore>=3.0.0->qiskit>=0.45.0->qiskit-aer) (6.0.0)\n",
            "Requirement already satisfied: mpmath>=0.19 in /usr/local/lib/python3.10/dist-packages (from sympy>=1.3->qiskit>=0.45.0->qiskit-aer) (1.3.0)\n",
            "Installing collected packages: qiskit-aer\n",
            "Successfully installed qiskit-aer-0.13.3\n"
          ]
        }
      ]
    },
    {
      "cell_type": "markdown",
      "id": "ce0d9b74",
      "metadata": {
        "id": "ce0d9b74"
      },
      "source": [
        "# <font color=#786531>E91 Key Generation</font>"
      ]
    },
    {
      "cell_type": "code",
      "execution_count": null,
      "id": "c1c8d19d",
      "metadata": {
        "id": "c1c8d19d"
      },
      "outputs": [],
      "source": [
        "from qiskit import *\n",
        "from qiskit_aer import Aer\n",
        "from qiskit.providers.basic_provider import BasicProvider\n",
        "import math"
      ]
    },
    {
      "cell_type": "code",
      "execution_count": null,
      "id": "031ac506",
      "metadata": {
        "id": "031ac506"
      },
      "outputs": [],
      "source": [
        "# useful additional packages\n",
        "import numpy as np\n",
        "import random\n",
        "# regular expressions module\n",
        "import re\n",
        "\n",
        "# importing the QISKit\n",
        "from qiskit import QuantumCircuit, QuantumRegister, ClassicalRegister\n",
        "\n",
        "# import basic plot tools\n",
        "#from qiskit.tools.visualization import circuit_drawer, plot_histogram"
      ]
    },
    {
      "cell_type": "code",
      "execution_count": null,
      "id": "7d2daa69",
      "metadata": {
        "id": "7d2daa69"
      },
      "outputs": [],
      "source": [
        "# Creating registers\n",
        "qr = QuantumRegister(2, name=\"qr\")\n",
        "cr = ClassicalRegister(4, name=\"cr\")"
      ]
    },
    {
      "cell_type": "code",
      "execution_count": null,
      "id": "d9d2ba8e",
      "metadata": {
        "colab": {
          "base_uri": "https://localhost:8080/"
        },
        "id": "d9d2ba8e",
        "outputId": "d2ce77f0-2359-477b-96ab-cb323d001542"
      },
      "outputs": [
        {
          "output_type": "execute_result",
          "data": {
            "text/plain": [
              "<qiskit.circuit.instructionset.InstructionSet at 0x7c11bd90e320>"
            ]
          },
          "metadata": {},
          "execution_count": 5
        }
      ],
      "source": [
        "singlet = QuantumCircuit(qr, cr, name='singlet')\n",
        "singlet.h(qr[0])\n",
        "singlet.cx(qr[0],qr[1])"
      ]
    },
    {
      "cell_type": "code",
      "execution_count": null,
      "id": "53c64acc",
      "metadata": {
        "colab": {
          "base_uri": "https://localhost:8080/",
          "height": 255
        },
        "id": "53c64acc",
        "outputId": "240266ea-8271-4ec0-c196-50201aa28701"
      },
      "outputs": [
        {
          "output_type": "execute_result",
          "data": {
            "text/plain": [
              "<Figure size 299.314x284.278 with 1 Axes>"
            ],
            "image/png": "[encoded data removed]"
          },
          "metadata": {},
          "execution_count": 6
        }
      ],
      "source": [
        "singlet.draw(output = 'mpl')"
      ]
    },
    {
      "cell_type": "code",
      "execution_count": null,
      "id": "6cbf384c",
      "metadata": {
        "id": "6cbf384c"
      },
      "outputs": [],
      "source": [
        "## Alice's measurement circuits\n",
        "\n",
        "# measure the spin projection of Alice's qubit onto the a_1 direction (X basis)\n",
        "measureA1 = QuantumCircuit(qr, cr, name='measureA1')\n",
        "measureA1.h(qr[0])\n",
        "measureA1.measure(qr[0],cr[0])\n",
        "\n",
        "# measure the spin projection of Alice's qubit onto the a_2 direction (W basis)\n",
        "measureA2 = QuantumCircuit(qr, cr, name='measureA2')\n",
        "measureA2.s(qr[0])\n",
        "measureA2.h(qr[0])\n",
        "measureA2.t(qr[0])\n",
        "measureA2.h(qr[0])\n",
        "measureA2.measure(qr[0],cr[0])\n",
        "\n",
        "# measure the spin projection of Alice's qubit onto the a_3 direction (standard Z basis)\n",
        "measureA3 = QuantumCircuit(qr, cr, name='measureA3')\n",
        "measureA3.measure(qr[0],cr[0])\n",
        "\n",
        "## Bob's measurement circuits\n",
        "\n",
        "# measure the spin projection of Bob's qubit onto the b_1 direction (W basis)\n",
        "measureB1 = QuantumCircuit(qr, cr, name='measureB1')\n",
        "measureB1.s(qr[1])\n",
        "measureB1.h(qr[1])\n",
        "measureB1.t(qr[1])\n",
        "measureB1.h(qr[1])\n",
        "measureB1.measure(qr[1],cr[1])\n",
        "\n",
        "# measure the spin projection of Bob's qubit onto the b_2 direction (standard Z basis)\n",
        "measureB2 = QuantumCircuit(qr, cr, name='measureB2')\n",
        "measureB2.measure(qr[1],cr[1])\n",
        "\n",
        "# measure the spin projection of Bob's qubit onto the b_3 direction (V basis)\n",
        "measureB3 = QuantumCircuit(qr, cr, name='measureB3')\n",
        "measureB3.s(qr[1])\n",
        "measureB3.h(qr[1])\n",
        "measureB3.tdg(qr[1])\n",
        "measureB3.h(qr[1])\n",
        "measureB3.measure(qr[1],cr[1])\n",
        "\n",
        "## Lists of measurement circuits\n",
        "aliceMeasurements = [measureA1, measureA2, measureA3]\n",
        "bobMeasurements = [measureB1, measureB2, measureB3]"
      ]
    },
    {
      "cell_type": "code",
      "execution_count": null,
      "id": "0542157f",
      "metadata": {
        "id": "0542157f"
      },
      "outputs": [],
      "source": [
        "numberOfSinglets = 500"
      ]
    },
    {
      "cell_type": "code",
      "execution_count": null,
      "id": "15fcbae8",
      "metadata": {
        "id": "15fcbae8"
      },
      "outputs": [],
      "source": [
        "aliceMeasurementChoices = [random.randint(1, 3) for i in range(numberOfSinglets)] # string b of Alice\n",
        "bobMeasurementChoices = [random.randint(1, 3) for i in range(numberOfSinglets)] # string b' of Bob"
      ]
    },
    {
      "cell_type": "code",
      "execution_count": null,
      "id": "534c0b73",
      "metadata": {
        "scrolled": false,
        "colab": {
          "base_uri": "https://localhost:8080/"
        },
        "id": "534c0b73",
        "outputId": "0c2e20cf-a8b9-4d14-cb44-a3db67a2f970"
      },
      "outputs": [
        {
          "output_type": "stream",
          "name": "stdout",
          "text": [
            "[3, 1, 3, 3, 1, 1, 2, 1, 1, 2, 3, 2, 1, 1, 2, 2, 3, 3, 3, 1, 1, 1, 3, 3, 2, 3, 1, 2, 2, 3, 2, 3, 3, 3, 3, 2, 2, 3, 3, 3, 1, 1, 3, 2, 3, 1, 3, 2, 3, 3, 2, 2, 2, 3, 3, 3, 2, 2, 1, 3, 3, 1, 1, 3, 3, 1, 3, 2, 2, 1, 2, 1, 2, 1, 3, 1, 1, 3, 3, 2, 1, 2, 3, 3, 2, 1, 2, 2, 3, 3, 1, 3, 1, 1, 2, 3, 2, 3, 3, 3, 2, 3, 1, 3, 3, 3, 1, 1, 3, 1, 1, 2, 2, 3, 1, 2, 1, 1, 3, 2, 2, 2, 3, 1, 3, 2, 3, 3, 3, 1, 2, 3, 1, 2, 1, 1, 3, 1, 1, 2, 2, 2, 1, 1, 1, 3, 2, 1, 3, 2, 1, 1, 1, 1, 3, 1, 2, 2, 1, 3, 1, 2, 2, 3, 3, 2, 1, 2, 2, 1, 2, 1, 2, 1, 3, 2, 1, 3, 1, 2, 3, 3, 3, 2, 2, 3, 1, 1, 3, 2, 2, 3, 2, 2, 1, 2, 3, 2, 1, 2, 2, 3, 3, 1, 3, 2, 2, 1, 1, 2, 2, 2, 3, 3, 1, 2, 1, 2, 2, 1, 1, 1, 3, 2, 2, 3, 3, 2, 1, 3, 3, 3, 3, 2, 1, 3, 1, 2, 2, 1, 1, 3, 1, 1, 3, 2, 2, 1, 3, 3, 3, 1, 3, 1, 2, 3, 2, 3, 3, 2, 1, 3, 3, 3, 2, 1, 2, 3, 3, 2, 2, 3, 3, 3, 2, 1, 1, 1, 3, 1, 2, 3, 1, 1, 2, 1, 2, 2, 2, 2, 1, 2, 2, 1, 1, 2, 2, 2, 3, 2, 1, 3, 1, 2, 3, 1, 2, 1, 2, 3, 1, 3, 1, 2, 1, 2, 2, 2, 1, 2, 1, 2, 3, 3, 3, 2, 2, 1, 1, 3, 1, 3, 3, 3, 2, 1, 2, 2, 3, 2, 2, 1, 1, 1, 3, 3, 2, 1, 2, 3, 1, 2, 1, 1, 3, 3, 2, 1, 2, 2, 3, 2, 3, 1, 2, 2, 2, 2, 2, 2, 3, 2, 1, 1, 2, 3, 1, 2, 1, 2, 1, 2, 2, 2, 2, 3, 2, 3, 1, 3, 2, 2, 1, 1, 2, 2, 1, 3, 2, 3, 1, 1, 2, 2, 2, 3, 1, 3, 1, 1, 3, 2, 1, 1, 1, 3, 2, 3, 1, 1, 3, 3, 2, 3, 1, 2, 3, 2, 1, 2, 2, 3, 2, 1, 3, 1, 3, 3, 2, 1, 1, 2, 2, 2, 2, 3, 1, 3, 3, 3, 2, 3, 3, 3, 3, 1, 3, 3, 1, 3, 1, 3, 1, 1, 2, 2, 2, 2, 2, 3, 3, 3, 3, 3, 3, 2, 1, 1, 3, 3, 2, 3, 1, 2, 2, 1, 1, 2, 1, 2, 1, 2, 2, 2, 1, 2, 2, 3, 1, 2]\n"
          ]
        }
      ],
      "source": [
        "print(aliceMeasurementChoices)"
      ]
    },
    {
      "cell_type": "code",
      "execution_count": null,
      "id": "c7958779",
      "metadata": {
        "colab": {
          "base_uri": "https://localhost:8080/"
        },
        "id": "c7958779",
        "outputId": "49e1c8d2-bd03-4bd2-a616-28737472eb9e"
      },
      "outputs": [
        {
          "output_type": "stream",
          "name": "stdout",
          "text": [
            "[3, 1, 3, 3, 2, 3, 2, 1, 1, 3, 2, 2, 3, 3, 3, 3, 1, 2, 3, 1, 2, 3, 3, 1, 1, 2, 2, 1, 1, 3, 1, 2, 2, 2, 2, 3, 1, 2, 2, 3, 1, 3, 2, 1, 2, 1, 3, 2, 3, 1, 2, 2, 1, 1, 2, 3, 3, 2, 1, 1, 1, 1, 1, 1, 1, 2, 1, 2, 1, 3, 3, 1, 3, 2, 1, 1, 1, 2, 3, 2, 1, 3, 3, 3, 3, 3, 3, 1, 1, 1, 1, 2, 3, 2, 1, 2, 2, 1, 1, 1, 2, 1, 3, 3, 1, 2, 1, 1, 3, 3, 2, 3, 3, 2, 2, 1, 2, 2, 1, 2, 2, 1, 3, 2, 3, 3, 1, 1, 3, 1, 3, 3, 3, 3, 2, 2, 2, 2, 2, 3, 1, 2, 2, 3, 3, 2, 1, 3, 2, 3, 3, 3, 1, 1, 2, 3, 3, 1, 2, 3, 3, 1, 3, 3, 3, 3, 2, 2, 3, 3, 1, 2, 1, 2, 2, 1, 1, 1, 2, 2, 1, 1, 3, 3, 3, 3, 2, 3, 3, 2, 3, 2, 1, 1, 3, 1, 3, 1, 1, 2, 2, 2, 1, 2, 1, 3, 1, 2, 1, 3, 1, 1, 1, 3, 3, 1, 1, 1, 2, 1, 2, 2, 2, 3, 1, 1, 1, 1, 1, 2, 3, 2, 1, 1, 2, 1, 1, 2, 3, 2, 3, 1, 3, 1, 1, 3, 3, 2, 2, 3, 1, 3, 3, 3, 2, 3, 1, 1, 3, 2, 2, 3, 3, 3, 1, 2, 2, 3, 1, 3, 2, 1, 2, 2, 1, 3, 1, 3, 3, 1, 1, 3, 1, 2, 2, 3, 1, 2, 3, 1, 2, 1, 2, 3, 3, 2, 2, 2, 3, 3, 3, 1, 3, 2, 3, 1, 3, 2, 2, 3, 1, 1, 3, 1, 3, 3, 1, 1, 2, 2, 2, 2, 2, 2, 2, 2, 1, 1, 2, 2, 3, 3, 2, 2, 2, 2, 1, 2, 1, 2, 3, 3, 2, 1, 1, 3, 3, 3, 2, 3, 1, 1, 3, 3, 1, 1, 1, 1, 2, 2, 1, 1, 1, 3, 1, 1, 2, 3, 2, 3, 1, 3, 3, 2, 3, 3, 2, 3, 1, 1, 2, 1, 1, 3, 3, 2, 3, 3, 2, 1, 1, 1, 2, 3, 3, 1, 3, 3, 1, 3, 1, 3, 3, 2, 3, 2, 2, 3, 1, 1, 2, 1, 3, 1, 3, 3, 2, 2, 3, 3, 2, 1, 2, 1, 3, 1, 1, 1, 3, 3, 1, 3, 1, 2, 3, 2, 2, 1, 2, 2, 1, 1, 3, 2, 2, 1, 2, 3, 1, 1, 3, 3, 3, 3, 3, 3, 2, 3, 2, 1, 3, 2, 3, 2, 1, 2, 3, 2, 2, 2, 1, 3, 2, 1, 2, 3, 1, 1, 1, 3, 1, 2, 2, 3, 2, 1, 2, 3, 1, 2, 2, 1, 3, 1, 1, 1, 1, 2, 1, 3]\n"
          ]
        }
      ],
      "source": [
        "print(bobMeasurementChoices)"
      ]
    },
    {
      "cell_type": "code",
      "execution_count": null,
      "id": "3cb39cb2",
      "metadata": {
        "id": "3cb39cb2"
      },
      "outputs": [],
      "source": [
        "circuits = [] # the list in which the created circuits will be stored\n",
        "\n",
        "for i in range(numberOfSinglets):\n",
        "    circuitName = singlet & aliceMeasurements[aliceMeasurementChoices[i]-1] & bobMeasurements[bobMeasurementChoices[i]-1]\n",
        "    circuits.append(circuitName)"
      ]
    },
    {
      "cell_type": "code",
      "execution_count": null,
      "id": "ddfe480c",
      "metadata": {
        "scrolled": false,
        "colab": {
          "base_uri": "https://localhost:8080/",
          "height": 255
        },
        "id": "ddfe480c",
        "outputId": "0180ab4e-6bb5-4a30-8474-8ca3926b0614"
      },
      "outputs": [
        {
          "output_type": "execute_result",
          "data": {
            "text/plain": [
              "<Figure size 800.98x284.278 with 1 Axes>"
            ],
            "image/png": "[encoded data removed]"
          },
          "metadata": {},
          "execution_count": 14
        }
      ],
      "source": [
        "circuits[0].draw(output = 'mpl')"
      ]
    },
    {
      "cell_type": "markdown",
      "id": "c5d539d8",
      "metadata": {
        "id": "c5d539d8"
      },
      "source": [
        "## Record Results"
      ]
    },
    {
      "cell_type": "code",
      "source": [
        "results = []\n",
        "for i in range (numberOfSinglets):\n",
        "  simulator = Aer.get_backend(\"qasm_simulator\")\n",
        "  backend = BasicProvider().get_backend('basic_simulator')\n",
        "  transpiled_circuit = transpile(circuits[i], backend)\n",
        "\n",
        "  result = backend.run(transpiled_circuit, shots = 1).result()\n",
        "  results.append(result)"
      ],
      "metadata": {
        "id": "L1Np1n2IjhKq"
      },
      "id": "L1Np1n2IjhKq",
      "execution_count": null,
      "outputs": []
    },
    {
      "cell_type": "code",
      "execution_count": null,
      "id": "fd77e481",
      "metadata": {
        "id": "fd77e481"
      },
      "outputs": [],
      "source": [
        "abPatterns = [\n",
        "    re.compile('..00$'), # search for the '..00' output (Alice obtained 0 and Bob obtained 0)\n",
        "    re.compile('..01$'), # search for the '..01' output\n",
        "    re.compile('..10$'), # search for the '..10' output (Alice obtained 0 and Bob obtained 1)\n",
        "    re.compile('..11$')  # search for the '..11' output\n",
        "]"
      ]
    },
    {
      "cell_type": "code",
      "execution_count": null,
      "id": "d881ec77",
      "metadata": {
        "id": "d881ec77"
      },
      "outputs": [],
      "source": [
        "aliceResults = [] # Alice's results (string a)\n",
        "bobResults = [] # Bob's results (string a')\n",
        "\n",
        "for i in range(numberOfSinglets):\n",
        "\n",
        "    #res = list(result.get_counts(circuits[i]).keys())[0] # extract the key from the dict and transform it to str; execution result of the i-th circuit\n",
        "    res = str(list(results[i].get_counts().keys())[0])\n",
        "    if abPatterns[0].search(res): # check if the key is '..00' (if the measurement results are -1,-1)\n",
        "        aliceResults.append(0) # Alice got the result -1\n",
        "        bobResults.append(0) # Bob got the result -1\n",
        "    if abPatterns[1].search(res):\n",
        "        aliceResults.append(1)\n",
        "        bobResults.append(0)\n",
        "    if abPatterns[2].search(res): # check if the key is '..10' (if the measurement results are -1,1)\n",
        "        aliceResults.append(0) # Alice got the result -1\n",
        "        bobResults.append(1) # Bob got the result 1\n",
        "    if abPatterns[3].search(res):\n",
        "        aliceResults.append(1)\n",
        "        bobResults.append(1)\n"
      ]
    },
    {
      "cell_type": "code",
      "execution_count": null,
      "id": "82b59250",
      "metadata": {
        "colab": {
          "base_uri": "https://localhost:8080/"
        },
        "id": "82b59250",
        "outputId": "e5916108-1990-4d13-9685-d84401052a3e"
      },
      "outputs": [
        {
          "output_type": "stream",
          "name": "stdout",
          "text": [
            "[1, 1, 1, 1, 0, 1, 1, 1, 0, 1, 1, 1, 0, 1, 0, 1, 1, 0, 0, 1, 1, 0, 1, 1, 0, 1, 0, 0, 1, 0, 0, 1, 0, 0, 0, 0, 1, 1, 0, 0, 0, 0, 1, 0, 1, 0, 1, 1, 1, 1, 0, 0, 0, 1, 0, 0, 0, 1, 1, 0, 1, 1, 1, 0, 1, 0, 1, 0, 1, 1, 1, 0, 0, 1, 0, 0, 0, 0, 0, 1, 0, 1, 0, 0, 1, 0, 0, 0, 0, 1, 1, 0, 1, 0, 0, 1, 1, 0, 0, 1, 1, 0, 0, 1, 0, 1, 0, 1, 0, 1, 0, 1, 0, 0, 1, 0, 1, 0, 0, 1, 1, 1, 1, 0, 1, 1, 1, 0, 1, 0, 0, 0, 1, 0, 1, 0, 1, 0, 1, 1, 1, 1, 1, 0, 0, 1, 0, 0, 1, 0, 0, 1, 1, 0, 0, 1, 0, 1, 0, 0, 1, 0, 1, 0, 1, 1, 1, 0, 1, 1, 0, 0, 1, 0, 0, 0, 1, 0, 1, 1, 1, 0, 1, 0, 0, 0, 1, 1, 1, 0, 1, 0, 0, 1, 1, 0, 1, 0, 1, 1, 0, 0, 1, 0, 0, 1, 1, 1, 1, 1, 0, 0, 1, 1, 1, 0, 0, 1, 1, 1, 1, 0, 0, 0, 1, 1, 1, 0, 1, 1, 1, 1, 0, 0, 0, 0, 1, 0, 1, 0, 1, 1, 1, 1, 0, 0, 0, 0, 1, 1, 0, 1, 0, 0, 0, 1, 0, 0, 1, 0, 0, 1, 1, 1, 0, 0, 0, 0, 1, 0, 0, 1, 1, 1, 0, 0, 1, 1, 0, 0, 0, 1, 0, 0, 0, 0, 1, 0, 0, 0, 0, 1, 0, 1, 1, 0, 0, 0, 0, 1, 0, 1, 0, 1, 1, 1, 0, 1, 0, 1, 0, 1, 0, 1, 1, 1, 1, 1, 1, 1, 0, 1, 0, 0, 1, 0, 0, 0, 0, 0, 1, 1, 0, 0, 1, 1, 1, 1, 1, 1, 0, 0, 1, 0, 1, 0, 0, 0, 0, 1, 1, 1, 0, 1, 1, 1, 1, 1, 1, 0, 1, 0, 0, 1, 0, 0, 1, 1, 0, 0, 1, 1, 1, 1, 1, 1, 0, 0, 0, 1, 1, 1, 1, 1, 1, 0, 1, 0, 0, 0, 1, 0, 0, 0, 0, 0, 0, 0, 1, 1, 1, 0, 0, 1, 0, 1, 0, 1, 1, 0, 1, 0, 1, 0, 1, 0, 1, 0, 0, 1, 0, 1, 0, 0, 1, 0, 0, 1, 1, 1, 0, 1, 1, 1, 1, 0, 1, 1, 1, 1, 0, 0, 0, 1, 0, 1, 0, 0, 1, 0, 0, 0, 0, 1, 1, 1, 0, 1, 1, 0, 1, 0, 0, 1, 1, 1, 0, 0, 1, 0, 1, 1, 0, 0, 0, 1, 1, 0, 1, 0, 1, 0, 0, 1, 1, 0, 0, 0, 0, 1, 1, 1, 1, 0, 1, 1, 1, 0, 0, 0]\n"
          ]
        }
      ],
      "source": [
        "print(aliceResults)"
      ]
    },
    {
      "cell_type": "code",
      "execution_count": null,
      "id": "ed3d58e0",
      "metadata": {
        "colab": {
          "base_uri": "https://localhost:8080/"
        },
        "id": "ed3d58e0",
        "outputId": "d9b1172c-e9c1-44cb-ee64-1e9ceffd356a"
      },
      "outputs": [
        {
          "output_type": "stream",
          "name": "stdout",
          "text": [
            "[0, 1, 1, 1, 0, 0, 1, 1, 0, 0, 1, 0, 1, 0, 0, 1, 1, 0, 0, 1, 1, 1, 1, 1, 0, 1, 1, 0, 1, 0, 0, 1, 0, 0, 0, 1, 1, 1, 0, 0, 1, 1, 1, 0, 1, 0, 0, 1, 1, 1, 0, 0, 0, 1, 0, 0, 0, 1, 1, 0, 1, 0, 1, 0, 1, 0, 1, 0, 1, 0, 0, 0, 0, 0, 0, 0, 0, 0, 0, 1, 0, 0, 0, 0, 1, 0, 0, 0, 0, 1, 1, 0, 0, 1, 0, 1, 1, 0, 1, 1, 0, 0, 1, 1, 1, 1, 0, 1, 1, 0, 0, 0, 0, 0, 1, 0, 0, 1, 0, 1, 1, 1, 1, 1, 1, 0, 1, 0, 1, 1, 1, 0, 0, 1, 1, 0, 1, 1, 0, 0, 1, 1, 0, 1, 1, 1, 0, 1, 1, 1, 1, 1, 1, 0, 0, 0, 1, 1, 0, 0, 0, 0, 1, 0, 1, 0, 0, 0, 1, 0, 0, 1, 1, 1, 0, 0, 1, 0, 1, 1, 1, 0, 0, 0, 1, 1, 1, 0, 1, 0, 0, 0, 0, 1, 1, 0, 1, 0, 1, 0, 0, 0, 1, 1, 0, 1, 1, 1, 1, 1, 0, 0, 0, 0, 0, 0, 0, 1, 1, 1, 1, 1, 0, 0, 1, 1, 1, 0, 1, 1, 1, 1, 1, 0, 0, 0, 1, 1, 1, 1, 0, 1, 0, 1, 0, 1, 0, 1, 1, 1, 0, 0, 0, 1, 1, 1, 0, 0, 1, 0, 0, 1, 1, 1, 0, 1, 1, 0, 1, 1, 0, 1, 1, 1, 0, 1, 0, 0, 0, 0, 0, 1, 0, 0, 0, 1, 1, 0, 0, 0, 0, 1, 0, 0, 0, 1, 0, 1, 1, 0, 1, 1, 1, 1, 1, 0, 0, 0, 0, 1, 0, 1, 0, 1, 0, 0, 1, 1, 0, 1, 0, 1, 0, 0, 1, 0, 0, 0, 1, 0, 0, 1, 0, 0, 1, 1, 1, 1, 1, 1, 0, 1, 1, 0, 0, 0, 1, 0, 0, 1, 1, 1, 1, 1, 1, 1, 1, 1, 1, 1, 1, 0, 0, 0, 0, 0, 1, 1, 1, 0, 1, 0, 0, 0, 0, 1, 0, 1, 1, 1, 1, 1, 1, 1, 0, 0, 1, 0, 0, 1, 1, 0, 1, 1, 0, 0, 1, 0, 1, 1, 1, 0, 0, 1, 1, 1, 1, 1, 1, 1, 1, 0, 0, 0, 1, 0, 1, 0, 1, 0, 0, 1, 0, 0, 0, 0, 0, 1, 0, 1, 0, 1, 1, 1, 1, 0, 1, 1, 1, 1, 1, 0, 0, 1, 0, 1, 1, 0, 1, 0, 1, 0, 1, 1, 0, 0, 0, 0, 1, 0, 0, 0, 1, 0, 1, 1, 1, 0, 1, 0, 1, 1, 0, 0, 0, 0, 1, 0, 1, 0, 1, 0, 1, 1, 1, 0, 1, 0, 0, 1, 1, 1, 0, 0, 1, 1, 1, 0, 0, 0]\n"
          ]
        }
      ],
      "source": [
        "print(bobResults)"
      ]
    },
    {
      "cell_type": "markdown",
      "id": "7213dc99",
      "metadata": {
        "id": "7213dc99"
      },
      "source": [
        "## Revealing Base"
      ]
    },
    {
      "cell_type": "code",
      "execution_count": null,
      "id": "d0778641",
      "metadata": {
        "colab": {
          "base_uri": "https://localhost:8080/"
        },
        "id": "d0778641",
        "outputId": "77c3fb1d-0a27-4679-91ff-b09a680944f7"
      },
      "outputs": [
        {
          "output_type": "stream",
          "name": "stdout",
          "text": [
            "key length: 116\n"
          ]
        }
      ],
      "source": [
        "aliceKey = [] # Alice's key string k\n",
        "bobKey = [] # Bob's key string k'\n",
        "\n",
        "# comparing the stings with measurement choices\n",
        "for i in range(numberOfSinglets):\n",
        "    # if Alice and Bob have measured the spin projections onto the a_2/b_1 or a_3/b_2 directions\n",
        "    if (aliceMeasurementChoices[i] == 2 and bobMeasurementChoices[i] == 1) or (aliceMeasurementChoices[i] == 3 and bobMeasurementChoices[i] == 2):\n",
        "        aliceKey.append(aliceResults[i]) # record the i-th result obtained by Alice as the bit of the secret key k\n",
        "        bobKey.append(bobResults[i])\n",
        "\n",
        "keyLength = len(aliceKey) # length of the secret key\n",
        "print(\"key length:\", keyLength)"
      ]
    },
    {
      "cell_type": "code",
      "execution_count": null,
      "id": "a3f05552",
      "metadata": {
        "colab": {
          "base_uri": "https://localhost:8080/"
        },
        "id": "a3f05552",
        "outputId": "07f789fe-967b-45b1-a001-1d7164caaffb"
      },
      "outputs": [
        {
          "output_type": "stream",
          "name": "stdout",
          "text": [
            "Key Mismatch:  0\n"
          ]
        }
      ],
      "source": [
        "abKeyMismatches = 0 # number of mismatching bits in Alice's and Bob's keys\n",
        "\n",
        "for j in range(keyLength):\n",
        "    if aliceKey[j] != bobKey[j]:\n",
        "        abKeyMismatches += 1\n",
        "print(\"Key Mismatch: \", abKeyMismatches)"
      ]
    },
    {
      "cell_type": "code",
      "execution_count": null,
      "id": "f105b5d3",
      "metadata": {
        "colab": {
          "base_uri": "https://localhost:8080/"
        },
        "id": "f105b5d3",
        "outputId": "c170cfdc-cd0e-4516-ac9e-a2a06aeb9d76"
      },
      "outputs": [
        {
          "output_type": "stream",
          "name": "stdout",
          "text": [
            "[1, 0, 0, 1, 0, 1, 0, 1, 0, 0, 0, 1, 1, 0, 1, 0, 1, 0, 0, 1, 0, 0, 0, 0, 1, 1, 0, 0, 1, 1, 1, 1, 0, 1, 0, 1, 0, 0, 1, 0, 0, 0, 0, 1, 0, 0, 0, 1, 0, 0, 0, 1, 0, 1, 0, 1, 1, 0, 1, 0, 0, 1, 1, 0, 0, 1, 0, 1, 1, 1, 1, 0, 0, 1, 0, 0, 0, 0, 1, 1, 1, 0, 0, 0, 1, 1, 1, 0, 1, 0, 0, 1, 1, 1, 0, 0, 0, 0, 1, 0, 1, 1, 0, 0, 0, 1, 0, 0, 0, 1, 0, 1, 0, 1, 1, 0]\n"
          ]
        }
      ],
      "source": [
        "print(aliceKey)"
      ]
    },
    {
      "cell_type": "code",
      "execution_count": null,
      "id": "5707568b",
      "metadata": {
        "colab": {
          "base_uri": "https://localhost:8080/"
        },
        "id": "5707568b",
        "outputId": "52c66478-16be-4ecb-d8df-779409631843"
      },
      "outputs": [
        {
          "output_type": "stream",
          "name": "stdout",
          "text": [
            "[1, 0, 0, 1, 0, 1, 0, 1, 0, 0, 0, 1, 1, 0, 1, 0, 1, 0, 0, 1, 0, 0, 0, 0, 1, 1, 0, 0, 1, 1, 1, 1, 0, 1, 0, 1, 0, 0, 1, 0, 0, 0, 0, 1, 0, 0, 0, 1, 0, 0, 0, 1, 0, 1, 0, 1, 1, 0, 1, 0, 0, 1, 1, 0, 0, 1, 0, 1, 1, 1, 1, 0, 0, 1, 0, 0, 0, 0, 1, 1, 1, 0, 0, 0, 1, 1, 1, 0, 1, 0, 0, 1, 1, 1, 0, 0, 0, 0, 1, 0, 1, 1, 0, 0, 0, 1, 0, 0, 0, 1, 0, 1, 0, 1, 1, 0]\n"
          ]
        }
      ],
      "source": [
        "print(bobKey)"
      ]
    },
    {
      "cell_type": "markdown",
      "source": [
        "## CHSH"
      ],
      "metadata": {
        "id": "CsnzxkGswCUu"
      },
      "id": "CsnzxkGswCUu"
    },
    {
      "cell_type": "code",
      "source": [
        "def chsh_corr(result):\n",
        "\n",
        "    # lists with the counts of measurement results\n",
        "    # each element represents the number of (0,0), (0,1), (1,0) and (1,1) results respectively\n",
        "    countA1B1 = [0, 0, 0, 0] # XW observable\n",
        "    countA1B3 = [0, 0, 0, 0] # XV observable\n",
        "    countA3B1 = [0, 0, 0, 0] # ZW observable\n",
        "    countA3B3 = [0, 0, 0, 0] # ZV observable\n",
        "\n",
        "    for i in range(numberOfSinglets):\n",
        "\n",
        "        res = list(results[i].get_counts().keys())[0]\n",
        "\n",
        "        # if the spins of the qubits of the i-th singlet were projected onto the a_1/b_1 directions\n",
        "        if (aliceMeasurementChoices[i] == 1 and bobMeasurementChoices[i] == 1):\n",
        "            for j in range(4):\n",
        "                if abPatterns[j].search(res):\n",
        "                    countA1B1[j] += 1\n",
        "\n",
        "        if (aliceMeasurementChoices[i] == 1 and bobMeasurementChoices[i] == 3):\n",
        "            for j in range(4):\n",
        "                if abPatterns[j].search(res):\n",
        "                    countA1B3[j] += 1\n",
        "\n",
        "        if (aliceMeasurementChoices[i] == 3 and bobMeasurementChoices[i] == 1):\n",
        "            for j in range(4):\n",
        "                if abPatterns[j].search(res):\n",
        "                    countA3B1[j] += 1\n",
        "\n",
        "        # if the spins of the qubits of the i-th singlet were projected onto the a_3/b_3 directions\n",
        "        if (aliceMeasurementChoices[i] == 3 and bobMeasurementChoices[i] == 3):\n",
        "            for j in range(4):\n",
        "                if abPatterns[j].search(res):\n",
        "                    countA3B3[j] += 1\n",
        "\n",
        "    # number of the results obtained from the measurements in a particular basis\n",
        "    total11 = sum(countA1B1)\n",
        "    total13 = sum(countA1B3)\n",
        "    total31 = sum(countA3B1)\n",
        "    total33 = sum(countA3B3)\n",
        "\n",
        "    # expectation values of XW, XV, ZW and ZV observables (2)\n",
        "    expect11 = (countA1B1[0] - countA1B1[1] - countA1B1[2] + countA1B1[3])/total11 # -1/sqrt(2)\n",
        "    expect13 = (countA1B3[0] - countA1B3[1] - countA1B3[2] + countA1B3[3])/total13 # 1/sqrt(2)\n",
        "    expect31 = (countA3B1[0] - countA3B1[1] - countA3B1[2] + countA3B1[3])/total31 # -1/sqrt(2)\n",
        "    expect33 = (countA3B3[0] - countA3B3[1] - countA3B3[2] + countA3B3[3])/total33 # -1/sqrt(2)\n",
        "\n",
        "    corr = expect11 - expect13 + expect31 + expect33 # calculate the CHSH correlation value (3)\n",
        "\n",
        "    return corr"
      ],
      "metadata": {
        "id": "W7CdaiNJwCA7"
      },
      "id": "W7CdaiNJwCA7",
      "execution_count": null,
      "outputs": []
    },
    {
      "cell_type": "code",
      "source": [
        "corr = chsh_corr(results) # CHSH correlation value\n",
        "\n",
        "# CHSH inequality test\n",
        "print('CHSH correlation value: ' + str(round(corr, 3)))\n",
        "\n",
        "# Keys\n",
        "print('Length of the key: ' + str(keyLength))\n",
        "print('Number of mismatching bits: ' + str(abKeyMismatches) + '\\n')"
      ],
      "metadata": {
        "colab": {
          "base_uri": "https://localhost:8080/"
        },
        "id": "e3mYgzt9wDly",
        "outputId": "8c89c888-faa8-4bdd-e209-97c15953888a"
      },
      "id": "e3mYgzt9wDly",
      "execution_count": null,
      "outputs": [
        {
          "output_type": "stream",
          "name": "stdout",
          "text": [
            "CHSH correlation value: 2.827\n",
            "Length of the key: 116\n",
            "Number of mismatching bits: 0\n",
            "\n"
          ]
        }
      ]
    },
    {
      "cell_type": "code",
      "source": [
        "A=[0,1]; S =[];\n",
        "for a1 in A:\n",
        "  for a2 in A:\n",
        "    for b1 in A:\n",
        "      for b2 in A:\n",
        "        s = a1 * (b1 +b2) + a2 * (b1 - b2)\n",
        "        S.append(s)"
      ],
      "metadata": {
        "id": "TgU2ABHxwVKJ"
      },
      "id": "TgU2ABHxwVKJ",
      "execution_count": null,
      "outputs": []
    }
  ],
  "metadata": {
    "kernelspec": {
      "display_name": "Python 3 (ipykernel)",
      "language": "python",
      "name": "python3"
    },
    "language_info": {
      "codemirror_mode": {
        "name": "ipython",
        "version": 3
      },
      "file_extension": ".py",
      "mimetype": "text/x-python",
      "name": "python",
      "nbconvert_exporter": "python",
      "pygments_lexer": "ipython3",
      "version": "3.9.12"
    },
    "colab": {
      "provenance": [],
      "include_colab_link": true
    }
  },
  "nbformat": 4,
  "nbformat_minor": 5
}