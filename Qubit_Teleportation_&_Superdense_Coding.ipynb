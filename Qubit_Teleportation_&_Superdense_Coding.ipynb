{
  "nbformat": 4,
  "nbformat_minor": 0,
  "metadata": {
    "colab": {
      "provenance": [],
      "include_colab_link": true
    },
    "kernelspec": {
      "name": "python3",
      "display_name": "Python 3"
    },
    "language_info": {
      "name": "python"
    }
  },
  "cells": [
    {
      "cell_type": "markdown",
      "metadata": {
        "id": "view-in-github",
        "colab_type": "text"
      },
      "source": [
        "<a href=\"https://colab.research.google.com/github/Hasib1938/Hasib1938/blob/main/Qubit_Teleportation_%26_Superdense_Coding.ipynb\" target=\"_parent\"><img src=\"https://colab.research.google.com/assets/colab-badge.svg\" alt=\"Open In Colab\"/></a>"
      ]
    },
    {
      "cell_type": "markdown",
      "source": [
        "# **Install Dependencies**"
      ],
      "metadata": {
        "id": "4P12BV_RpBg8"
      }
    },
    {
      "cell_type": "code",
      "execution_count": null,
      "metadata": {
        "id": "9J5DsXH7kvXg"
      },
      "outputs": [],
      "source": [
        "!pip install qiskit"
      ]
    },
    {
      "cell_type": "code",
      "source": [
        "!pip install pylatexenc"
      ],
      "metadata": {
        "colab": {
          "base_uri": "https://localhost:8080/"
        },
        "id": "x5gNCuzOltvV",
        "outputId": "a306b61c-6e82-4d3b-b625-37688529d44a"
      },
      "execution_count": null,
      "outputs": [
        {
          "output_type": "stream",
          "name": "stdout",
          "text": [
            "Requirement already satisfied: pylatexenc in /usr/local/lib/python3.10/dist-packages (2.10)\n"
          ]
        }
      ]
    },
    {
      "cell_type": "code",
      "source": [
        "!pip install qiskit-aer"
      ],
      "metadata": {
        "id": "BPmCqhgClsqT"
      },
      "execution_count": null,
      "outputs": []
    },
    {
      "cell_type": "code",
      "source": [
        "from qiskit import *\n",
        "from qiskit_aer import Aer\n",
        "import numpy as np\n",
        "\n",
        "from qiskit.providers.fake_provider import GenericBackendV2\n",
        "from qiskit.providers.basic_provider import BasicProvider"
      ],
      "metadata": {
        "id": "s_CQ0p7Nk8dk"
      },
      "execution_count": null,
      "outputs": []
    },
    {
      "cell_type": "code",
      "source": [],
      "metadata": {
        "id": "0aGd5neqsjeZ"
      },
      "execution_count": null,
      "outputs": []
    },
    {
      "cell_type": "markdown",
      "source": [
        "# **Quantum Teleportation**"
      ],
      "metadata": {
        "id": "D2e8OreSsgVa"
      }
    },
    {
      "cell_type": "markdown",
      "source": [
        "## **Create Circuit**"
      ],
      "metadata": {
        "id": "jTj0lrMLpIRT"
      }
    },
    {
      "cell_type": "code",
      "source": [
        "qr0 = QuantumRegister(2,'Alice')\n",
        "qr1 = QuantumRegister(1,'Bob')\n",
        "cr = ClassicalRegister(3, 'Classical bit')"
      ],
      "metadata": {
        "id": "pi4Bon5mk962"
      },
      "execution_count": null,
      "outputs": []
    },
    {
      "cell_type": "code",
      "source": [
        "circuit = QuantumCircuit(qr0,qr1, cr)"
      ],
      "metadata": {
        "id": "MuNO2kHQlMpl"
      },
      "execution_count": null,
      "outputs": []
    },
    {
      "cell_type": "code",
      "source": [
        "circuit.x(qr0[0])\n",
        "# from math import pi\n",
        "\n",
        "# circuit.barrier()\n",
        "# circuit.rx(pi/6, qr0[0])"
      ],
      "metadata": {
        "colab": {
          "base_uri": "https://localhost:8080/"
        },
        "id": "BSUlrwik5O9W",
        "outputId": "fe57846b-a110-4b92-a658-658d47b3fc8a"
      },
      "execution_count": null,
      "outputs": [
        {
          "output_type": "execute_result",
          "data": {
            "text/plain": [
              "<qiskit.circuit.instructionset.InstructionSet at 0x7da310158220>"
            ]
          },
          "metadata": {},
          "execution_count": 44
        }
      ]
    },
    {
      "cell_type": "code",
      "source": [
        "circuit.h(1)\n",
        "circuit.cx(1,2)"
      ],
      "metadata": {
        "colab": {
          "base_uri": "https://localhost:8080/"
        },
        "id": "kiMDKhG-lUO2",
        "outputId": "50a8e912-f1d8-4204-f103-4315f4b7f825"
      },
      "execution_count": null,
      "outputs": [
        {
          "output_type": "execute_result",
          "data": {
            "text/plain": [
              "<qiskit.circuit.instructionset.InstructionSet at 0x7da3101ba6b0>"
            ]
          },
          "metadata": {},
          "execution_count": 46
        }
      ]
    },
    {
      "cell_type": "code",
      "source": [
        "circuit.barrier()\n",
        "circuit.cx(qr0[0],qr0[1])\n",
        "\n",
        "circuit.h(qr0[0])"
      ],
      "metadata": {
        "colab": {
          "base_uri": "https://localhost:8080/"
        },
        "id": "8r7Cdiws5vpF",
        "outputId": "50e0e228-9f13-499d-dfad-aeb8d11492fe"
      },
      "execution_count": null,
      "outputs": [
        {
          "output_type": "execute_result",
          "data": {
            "text/plain": [
              "<qiskit.circuit.instructionset.InstructionSet at 0x7da31003db10>"
            ]
          },
          "metadata": {},
          "execution_count": 48
        }
      ]
    },
    {
      "cell_type": "code",
      "source": [
        "circuit.barrier()\n",
        "circuit.measure(qr0[0], cr[0])\n",
        "circuit.measure(qr0[1], cr[1])"
      ],
      "metadata": {
        "colab": {
          "base_uri": "https://localhost:8080/"
        },
        "id": "UJcOJRMzZL-_",
        "outputId": "5245aa08-8eb3-48b5-b094-00fb11389574"
      },
      "execution_count": null,
      "outputs": [
        {
          "output_type": "execute_result",
          "data": {
            "text/plain": [
              "<qiskit.circuit.instructionset.InstructionSet at 0x7da33a01d960>"
            ]
          },
          "metadata": {},
          "execution_count": 50
        }
      ]
    },
    {
      "cell_type": "code",
      "source": [
        "circuit.barrier()\n",
        "circuit.z(qr1).c_if(cr[0], 1)\n",
        "circuit.x(qr1).c_if(cr[1], 1)"
      ],
      "metadata": {
        "colab": {
          "base_uri": "https://localhost:8080/"
        },
        "id": "zthrnED3ZpXi",
        "outputId": "0ead0e86-4f47-4265-d503-0c021d0f43e6"
      },
      "execution_count": null,
      "outputs": [
        {
          "output_type": "execute_result",
          "data": {
            "text/plain": [
              "<qiskit.circuit.instructionset.InstructionSet at 0x7da3244caa70>"
            ]
          },
          "metadata": {},
          "execution_count": 52
        }
      ]
    },
    {
      "cell_type": "code",
      "source": [
        "circuit.measure(qr1,cr[2])"
      ],
      "metadata": {
        "colab": {
          "base_uri": "https://localhost:8080/"
        },
        "id": "TPlc3tjQbW1U",
        "outputId": "75d2f04a-701a-471d-f2ef-aeb171c05c94"
      },
      "execution_count": null,
      "outputs": [
        {
          "output_type": "execute_result",
          "data": {
            "text/plain": [
              "<qiskit.circuit.instructionset.InstructionSet at 0x7da33a01c1f0>"
            ]
          },
          "metadata": {},
          "execution_count": 54
        }
      ]
    },
    {
      "cell_type": "code",
      "source": [
        "circuit.draw(output = 'mpl')"
      ],
      "metadata": {
        "colab": {
          "base_uri": "https://localhost:8080/",
          "height": 293
        },
        "id": "gv6ySjTfnDxj",
        "outputId": "c279a9d0-123d-4816-d4f7-6e0954b98e0c"
      },
      "execution_count": null,
      "outputs": [
        {
          "output_type": "execute_result",
          "data": {
            "text/plain": [
              "<Figure size 1260.2x367.889 with 1 Axes>"
            ],
            "image/png": "[encoded data removed]"
          },
          "metadata": {},
          "execution_count": 55
        }
      ]
    },
    {
      "cell_type": "markdown",
      "source": [
        "## **Simulation**"
      ],
      "metadata": {
        "id": "x7KhjK3e5jLm"
      }
    },
    {
      "cell_type": "code",
      "source": [
        "simulator = Aer.get_backend(\"qasm_simulator\")\n",
        "\n",
        "backend = BasicProvider().get_backend('basic_simulator')\n",
        "transpiled_circuit = transpile(circuit, backend)\n",
        "\n",
        "result = backend.run(transpiled_circuit, shots = 1000).result()\n",
        "result"
      ],
      "metadata": {
        "colab": {
          "base_uri": "https://localhost:8080/"
        },
        "id": "7ECeuwlwoMaJ",
        "outputId": "8cafa164-4e77-40a0-cb05-786472bc02b7"
      },
      "execution_count": null,
      "outputs": [
        {
          "output_type": "execute_result",
          "data": {
            "text/plain": [
              "Result(backend_name='basic_simulator', backend_version='0.1', qobj_id='46b86d03-1986-47d8-ad92-826889dafcaf', job_id='7815dbce-c325-4fd2-969d-742d03f24087', success=True, results=[ExperimentResult(shots=1000, success=True, meas_level=2, data=ExperimentResultData(counts={'0x7': 249, '0x6': 243, '0x5': 247, '0x4': 261}), header=QobjExperimentHeader(qubit_labels=[['Alice', 0], ['Alice', 1], ['Bob', 0]], n_qubits=3, qreg_sizes=[['Alice', 2], ['Bob', 1]], clbit_labels=[['Classical bit', 0], ['Classical bit', 1], ['Classical bit', 2]], memory_slots=3, creg_sizes=[['Classical bit', 3]], name='circuit-171', global_phase=0.0, metadata={}), status=DONE, name='circuit-171', seed_simulator=1487438901, time_taken=0.3793778419494629)], date=None, status=COMPLETED, header=QobjHeader(backend_name='basic_simulator', backend_version='0.1'), time_taken=0.37939000129699707)"
            ]
          },
          "metadata": {},
          "execution_count": 56
        }
      ]
    },
    {
      "cell_type": "code",
      "source": [
        "from qiskit.visualization import plot_histogram\n",
        "plot_histogram(result.get_counts(circuit))\n"
      ],
      "metadata": {
        "colab": {
          "base_uri": "https://localhost:8080/",
          "height": 473
        },
        "id": "lZzVMeLZrK51",
        "outputId": "9a56b5d6-90ac-40fb-a55a-df6263287bd9"
      },
      "execution_count": null,
      "outputs": [
        {
          "output_type": "execute_result",
          "data": {
            "text/plain": [
              "<Figure size 700x500 with 1 Axes>"
            ],
            "image/png": "[encoded data removed]"
          },
          "metadata": {},
          "execution_count": 57
        }
      ]
    },
    {
      "cell_type": "code",
      "source": [],
      "metadata": {
        "id": "Ii7kQUUknoB0"
      },
      "execution_count": null,
      "outputs": []
    },
    {
      "cell_type": "markdown",
      "source": [
        "# **Superdense Coding**"
      ],
      "metadata": {
        "id": "Ot4LrfTjnodd"
      }
    },
    {
      "cell_type": "code",
      "source": [
        "qr = QuantumRegister(2, 'Qubit')\n",
        "cr = ClassicalRegister(2, 'CBit')\n",
        "\n",
        "spd_circ = QuantumCircuit(qr, cr)"
      ],
      "metadata": {
        "id": "nhBiaZDcntIW"
      },
      "execution_count": null,
      "outputs": []
    },
    {
      "cell_type": "code",
      "source": [
        "spd_circ.h(0)\n",
        "spd_circ.cx(qr[0],qr[1])\n",
        "spd_circ.barrier()"
      ],
      "metadata": {
        "colab": {
          "base_uri": "https://localhost:8080/"
        },
        "id": "61y-VmeOoR5O",
        "outputId": "d063fa3b-3c04-457d-e6b0-c9abfdc7ad50"
      },
      "execution_count": null,
      "outputs": [
        {
          "output_type": "execute_result",
          "data": {
            "text/plain": [
              "CircuitInstruction(operation=Instruction(name='barrier', num_qubits=2, num_clbits=0, params=[]), qubits=(Qubit(QuantumRegister(2, 'Qubit'), 0), Qubit(QuantumRegister(2, 'Qubit'), 1)), clbits=())"
            ]
          },
          "metadata": {},
          "execution_count": 32
        }
      ]
    },
    {
      "cell_type": "code",
      "source": [
        "spd_circ.draw(output = 'mpl')"
      ],
      "metadata": {
        "colab": {
          "base_uri": "https://localhost:8080/"
        },
        "id": "D7MT4ryBoFoq",
        "outputId": "9e492075-e2aa-45b0-eba8-659ba28136e8"
      },
      "execution_count": null,
      "outputs": [
        {
          "output_type": "execute_result",
          "data": {
            "text/plain": [
              "<Figure size 431.405x284.278 with 1 Axes>"
            ],
            "image/png": "[encoded data removed]"
          },
          "metadata": {},
          "execution_count": 33
        }
      ]
    },
    {
      "cell_type": "markdown",
      "source": [
        "If they want to send 00 then they perform no operation.\n",
        "\n",
        "If they want to send 01 then they perform a Pauli-Z operation where q1s state is flipped.\n",
        "\n",
        "If they want to send 10 then they apply a Pauli-X gate.\n",
        "\n",
        "If they want to send 11 then apply a Pauli-Z gate followed by a Pauli-X gate"
      ],
      "metadata": {
        "id": "DjdO28eVpeY6"
      }
    },
    {
      "cell_type": "code",
      "source": [
        "spd_circ.x(qr[0])\n",
        "spd_circ.barrier()"
      ],
      "metadata": {
        "colab": {
          "base_uri": "https://localhost:8080/"
        },
        "id": "F_uaUCYBoPRT",
        "outputId": "7cce6bd6-7618-42fc-f2ba-ffc327e2eef1"
      },
      "execution_count": null,
      "outputs": [
        {
          "output_type": "execute_result",
          "data": {
            "text/plain": [
              "CircuitInstruction(operation=Instruction(name='barrier', num_qubits=2, num_clbits=0, params=[]), qubits=(Qubit(QuantumRegister(2, 'Qubit'), 0), Qubit(QuantumRegister(2, 'Qubit'), 1)), clbits=())"
            ]
          },
          "metadata": {},
          "execution_count": 34
        }
      ]
    },
    {
      "cell_type": "code",
      "source": [
        "spd_circ.draw(output = 'mpl')"
      ],
      "metadata": {
        "colab": {
          "base_uri": "https://localhost:8080/"
        },
        "id": "AUiUJWXTpndj",
        "outputId": "06785f3a-647c-4282-89ac-ae528a60b63f"
      },
      "execution_count": null,
      "outputs": [
        {
          "output_type": "execute_result",
          "data": {
            "text/plain": [
              "<Figure size 849.46x284.278 with 1 Axes>"
            ],
            "image/png": "[encoded data removed]"
          },
          "metadata": {},
          "execution_count": 40
        }
      ]
    },
    {
      "cell_type": "code",
      "source": [
        "spd_circ.cx(qr[0],qr[1])\n",
        "spd_circ.h(qr[0])"
      ],
      "metadata": {
        "colab": {
          "base_uri": "https://localhost:8080/"
        },
        "id": "4rT0aAcBpp3O",
        "outputId": "0e663db5-a0eb-4ee1-d15c-0c879d13d1e6"
      },
      "execution_count": null,
      "outputs": [
        {
          "output_type": "execute_result",
          "data": {
            "text/plain": [
              "<qiskit.circuit.instructionset.InstructionSet at 0x7da3104fba30>"
            ]
          },
          "metadata": {},
          "execution_count": 36
        }
      ]
    },
    {
      "cell_type": "code",
      "source": [
        "spd_circ.measure(qr,cr)"
      ],
      "metadata": {
        "colab": {
          "base_uri": "https://localhost:8080/"
        },
        "id": "jDnHZ-JkrY3X",
        "outputId": "2eb515ac-1ca0-4bcf-e1ab-4a1567b3c2cd"
      },
      "execution_count": null,
      "outputs": [
        {
          "output_type": "execute_result",
          "data": {
            "text/plain": [
              "<qiskit.circuit.instructionset.InstructionSet at 0x7da3103975e0>"
            ]
          },
          "metadata": {},
          "execution_count": 37
        }
      ]
    },
    {
      "cell_type": "code",
      "source": [
        "simulator = Aer.get_backend(\"qasm_simulator\")\n",
        "\n",
        "backend = BasicProvider().get_backend('basic_simulator')\n",
        "transpiled_circuit = transpile(spd_circ, backend)\n",
        "\n",
        "result = backend.run(transpiled_circuit, shots = 1000).result()\n",
        "result"
      ],
      "metadata": {
        "colab": {
          "base_uri": "https://localhost:8080/"
        },
        "id": "Sfv1fLcyrjw3",
        "outputId": "abf3ca81-cd50-47ad-ea7d-1662cebe88ef"
      },
      "execution_count": null,
      "outputs": [
        {
          "output_type": "execute_result",
          "data": {
            "text/plain": [
              "Result(backend_name='basic_simulator', backend_version='0.1', qobj_id='7dfa23a2-ff57-4130-ba3a-ad59fffa25b3', job_id='0181f577-3aa1-47d2-b17f-44cd24aa8878', success=True, results=[ExperimentResult(shots=1000, success=True, meas_level=2, data=ExperimentResultData(counts={'0x2': 1000}), header=QobjExperimentHeader(qubit_labels=[['Qubit', 0], ['Qubit', 1]], n_qubits=2, qreg_sizes=[['Qubit', 2]], clbit_labels=[['CBit', 0], ['CBit', 1]], memory_slots=2, creg_sizes=[['CBit', 2]], name='circuit-169', global_phase=0.0, metadata={}), status=DONE, name='circuit-169', seed_simulator=450828561, time_taken=0.004277944564819336)], date=None, status=COMPLETED, header=QobjHeader(backend_name='basic_simulator', backend_version='0.1'), time_taken=0.0043222904205322266)"
            ]
          },
          "metadata": {},
          "execution_count": 38
        }
      ]
    },
    {
      "cell_type": "code",
      "source": [
        "plot_histogram(result.get_counts(spd_circ))"
      ],
      "metadata": {
        "colab": {
          "base_uri": "https://localhost:8080/"
        },
        "id": "JfyyrtH2r2XR",
        "outputId": "1b912673-cda4-4fdd-e76e-8e7861be9687"
      },
      "execution_count": null,
      "outputs": [
        {
          "output_type": "execute_result",
          "data": {
            "text/plain": [
              "<Figure size 700x500 with 1 Axes>"
            ],
            "image/png": "[encoded data removed]"
          },
          "metadata": {},
          "execution_count": 39
        }
      ]
    },
    {
      "cell_type": "code",
      "source": [],
      "metadata": {
        "id": "hiHf48kUr5Wg"
      },
      "execution_count": null,
      "outputs": []
    }
  ]
}